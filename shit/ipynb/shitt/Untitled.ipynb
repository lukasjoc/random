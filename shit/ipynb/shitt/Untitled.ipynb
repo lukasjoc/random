{
 "cells": [
  {
   "cell_type": "code",
   "execution_count": 44,
   "metadata": {},
   "outputs": [
    {
     "name": "stdout",
     "output_type": "stream",
     "text": [
      "   11234134814817481748\n",
      "+\n",
      "   1\n",
      "+\n",
      "   148138478347189242\n",
      "-\n",
      "   34444444\n",
      "   --------------------\n"
     ]
    }
   ],
   "source": [
    "data = \"11234134814817481748 + 1 + 148138478347189242 - 34444444\"\n",
    "\n",
    "def arrange(data):\n",
    "    arr = data.split(\" \")\n",
    "    \n",
    "    max_size = 0\n",
    "    indent = \"\\xA0\\xA0\\xA0\"\n",
    "    for i in range(len(arr)) :\n",
    "        \n",
    "        if i%2 == 0 or i == 0 :\n",
    "            if max_size < int(arr[i]):\n",
    "                max_size += int(arr[i])\n",
    "            print(f\"{indent}{arr[i]}\")\n",
    "        else:\n",
    "            print(arr[i])\n",
    "            \n",
    "    line = \"\"\n",
    "    \n",
    "    for i in range(len(str(max_size))) :\n",
    "        line += \"-\"\n",
    "        \n",
    "    print(f\"{indent}{line}\")\n",
    "\n",
    "arrange(data)"
   ]
  },
  {
   "cell_type": "code",
   "execution_count": null,
   "metadata": {},
   "outputs": [],
   "source": []
  }
 ],
 "metadata": {
  "kernelspec": {
   "display_name": "Python 3",
   "language": "python",
   "name": "python3"
  },
  "language_info": {
   "codemirror_mode": {
    "name": "ipython",
    "version": 3
   },
   "file_extension": ".py",
   "mimetype": "text/x-python",
   "name": "python",
   "nbconvert_exporter": "python",
   "pygments_lexer": "ipython3",
   "version": "3.8.5"
  }
 },
 "nbformat": 4,
 "nbformat_minor": 4
}
