{
 "cells": [
  {
   "cell_type": "code",
   "execution_count": null,
   "metadata": {},
   "outputs": [],
   "source": [
    "# Padovan Seq\n",
    "\n",
    "\n",
    "def ped(duration):\n",
    "\n",
    "    \n",
    "    ppp, pp, pc, pn = 1, 1, 1, 1\n",
    "    \n",
    "    for i in range(3, duration+1):\n",
    "        pn = ppp + pp\n",
    "        ppp = pp\n",
    "        pp = pc\n",
    "        pc = pn\n",
    "        \n",
    "    return pn\n",
    "    \n",
    "    \n",
    "ped(13)"
   ]
  },
  {
   "cell_type": "code",
   "execution_count": null,
   "metadata": {},
   "outputs": [],
   "source": []
  }
 ],
 "metadata": {
  "kernelspec": {
   "display_name": "Python 3",
   "language": "python",
   "name": "python3"
  },
  "language_info": {
   "codemirror_mode": {
    "name": "ipython",
    "version": 3
   },
   "file_extension": ".py",
   "mimetype": "text/x-python",
   "name": "python",
   "nbconvert_exporter": "python",
   "pygments_lexer": "ipython3",
   "version": "3.8.5"
  }
 },
 "nbformat": 4,
 "nbformat_minor": 4
}
