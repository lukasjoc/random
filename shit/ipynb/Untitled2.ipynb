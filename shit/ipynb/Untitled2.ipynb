{
 "cells": [
  {
   "cell_type": "code",
   "execution_count": 62,
   "metadata": {},
   "outputs": [
    {
     "name": "stdout",
     "output_type": "stream",
     "text": [
      "         date aggregation figure       interval\n",
      "0  2020-01-01         max    2.0  hourly24hours\n",
      "1  2020-01-01         min    1.0  hourly24hours\n",
      "2  2020-01-01     average   0.75  hourly24hours\n",
      "3  2020-01-01       total    2.0  hourly24hours\n"
     ]
    }
   ],
   "source": [
    "import pandas as pd\n",
    "\n",
    "data = [\n",
    "    {\n",
    "        \"date\": \"2020-01-01\",\n",
    "        \"interval\": \"hourly24hours\",\n",
    "        \"average\": \"0.75\",\n",
    "        \"max\": \"2.0\",\n",
    "        \"min\": \"1.0\",\n",
    "        \"total\": \"2.0\",\n",
    "    },\n",
    "        {\n",
    "        \"date\": \"2020-01-01\",\n",
    "        \"interval\": \"hourly24hours\",\n",
    "        \"average\": \"0.75\",\n",
    "        \"max\": \"2.0\",\n",
    "        \"min\": \"1.0\",\n",
    "        \"total\": \"2.0\",\n",
    "    },\n",
    "        {\n",
    "        \"date\": \"2020-01-01\",\n",
    "        \"interval\": \"hourly24hours\",\n",
    "        \"average\": \"0.75\",\n",
    "        \"max\": \"2.0\",\n",
    "        \"min\": \"1.0\",\n",
    "        \"total\": \"2.0\",\n",
    "    },\n",
    "        {\n",
    "        \"date\": \"2020-01-01\",\n",
    "        \"interval\": \"hourly24hours\",\n",
    "        \"average\": \"0.75\",\n",
    "        \"max\": \"2.0\",\n",
    "        \"min\": \"1.0\",\n",
    "        \"total\": \"2.0\",\n",
    "    },\n",
    "]\n",
    "df = pd.json_normalize(data)\n",
    "\n",
    "new_ags = []\n",
    "aggs = df.loc[:, [\"max\", \"min\", \"average\", \"total\"]].copy()\n",
    " \n",
    "temp = {}\n",
    "for agg in aggs:\n",
    "    f = df[agg].values[0]\n",
    "    temp[\"date\"] = v.date\n",
    "    temp[\"aggregation\"] = agg\n",
    "    temp[\"figure\"] = f\n",
    "    temp[\"interval\"] = v.interval\n",
    "            \n",
    "    new_ags.append(temp)\n",
    "    temp = {}\n",
    "\n",
    "# print(new_ags)\n",
    "print(pd.json_normalize(new_ags)) "
   ]
  },
  {
   "cell_type": "code",
   "execution_count": null,
   "metadata": {},
   "outputs": [],
   "source": []
  },
  {
   "cell_type": "code",
   "execution_count": null,
   "metadata": {},
   "outputs": [],
   "source": []
  }
 ],
 "metadata": {
  "kernelspec": {
   "display_name": "Python 3.7.7 64-bit",
   "language": "python",
   "name": "python37764bit3fbc9c601da241c39281b4ce6b932184"
  },
  "language_info": {
   "codemirror_mode": {
    "name": "ipython",
    "version": 3
   },
   "file_extension": ".py",
   "mimetype": "text/x-python",
   "name": "python",
   "nbconvert_exporter": "python",
   "pygments_lexer": "ipython3",
   "version": "3.7.7"
  }
 },
 "nbformat": 4,
 "nbformat_minor": 4
}
