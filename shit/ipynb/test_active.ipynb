{
 "cells": [
  {
   "cell_type": "code",
   "execution_count": 232,
   "metadata": {},
   "outputs": [
    {
     "name": "stdout",
     "output_type": "stream",
     "text": [
      "12 now inactive. was active before this\n",
      "13 now inactive. was active before this\n",
      "14 now inactive. was active before this\n",
      "15 now inactive. was active before this\n",
      "[12, 13, 14, 15]\n"
     ]
    }
   ],
   "source": [
    "import pandas as pd\n",
    "\n",
    "db_data = [\n",
    "    {\"id\": 1, \"name\": \"Luads\", \"number\": \"000000000000\", \"number_active\": 1, \"spId\": 10},\n",
    "    {\"id\": 2, \"name\": \"Luads\", \"number\": \"000000000000\", \"number_active\": 1, \"spId\": 11},\n",
    "    {\"id\": 3, \"name\": \"Luads\", \"number\": \"000000000000\", \"number_active\": 1, \"spId\": 12},\n",
    "    {\"id\": 4, \"name\": \"Lukas\", \"number\": \"000000000000\", \"number_active\": 1, \"spId\": 13},\n",
    "    {\"id\": 5, \"name\": \"Luisd\", \"number\": \"000000000000\", \"number_active\": 1, \"spId\": 14},\n",
    "    {\"id\": 6, \"name\": \"Jocham\", \"number\":\"000000000000\", \"number_active\": 1, \"spId\": 15},\n",
    "]\n",
    "\n",
    "input_data = [\n",
    "    {\"id\": 1, \"name\": \"Luads\", \"number\": \"000000000000\", \"number_active\": 1, \"spId\": 10},\n",
    "    {\"id\": 2, \"name\": \"Luads\", \"number\": \"000000000000\", \"number_active\": 1, \"spId\": 11},\n",
    "    # {\"id\": 3, \"name\": \"Luads\", \"number\": \"000000000000\", \"number_active\": 1, \"spId\": 12},\n",
    "    # {\"id\": 4, \"name\": \"Lukas\", \"number\": \"000000000000\", \"number_active\": 1, \"spId\": 13},\n",
    "    # {\"id\": 5, \"name\": \"Luisd\", \"number\": \"000000000000\", \"number_active\": 1, \"spId\": 14},\n",
    "    {\"id\": 7, \"name\": \"Lukas\", \"number\": \"000000000000\", \"number_active\": 1, \"spId\": 16},\n",
    "    # {\"id\": 6, \"name\": \"Jocham\", \"number\":\"000000000000\", \"number_active\": 1, \"spId\": 15},\n",
    "]\n",
    "\n",
    "def analyse_lost(df_db, df_input, rel=\"spId\"):\n",
    "    \"\"\" \n",
    "        Analysing \"lost\" values. Values that where active but are\n",
    "        inactive now. Because of shop closages and shit.\n",
    "        Implying that all values in the input frame are active.\n",
    "        if values are inactive they are not in the input frame\n",
    "    \"\"\"\n",
    "    common = df_db.merge(df_input, on=[rel])\n",
    "    gone_db = df_db.loc[df_db[\"number_active\"] == False]\n",
    "    gone = df_db[(~df_db[rel].isin(common[rel]))]\n",
    "    matches = []\n",
    "    for val in gone[rel].values:\n",
    "        if val not in gone_db[rel].values:\n",
    "            print(f\"{val} now inactive. was active before this\")\n",
    "            matches.append(val)\n",
    "        else:\n",
    "            print(f\"{val} still inactive. was inactive before this. Nothing to do for this\")\n",
    "    return matches\n",
    "    \n",
    "    \n",
    "df_db = pd.json_normalize(db_data)\n",
    "df_input = pd.json_normalize(input_data)\n",
    "lost = analyse_lost(df_db, df_input)\n",
    "\n",
    "print(lost)"
   ]
  },
  {
   "cell_type": "code",
   "execution_count": 213,
   "metadata": {},
   "outputs": [
    {
     "name": "stdout",
     "output_type": "stream",
     "text": [
      "[15]\n"
     ]
    }
   ],
   "source": [
    "import pandas as pd\n",
    "\n",
    "db_data = [\n",
    "    {\"id\": 1, \"name\": \"Luads\", \"number\": \"000000000000\", \"number_active\": True, \"spId\": 10},\n",
    "    {\"id\": 2, \"name\": \"Luads\", \"number\": \"000000000000\", \"number_active\": True, \"spId\": 11},\n",
    "    {\"id\": 3, \"name\": \"Luads\", \"number\": \"000000000000\", \"number_active\": True, \"spId\": 12},\n",
    "    {\"id\": 4, \"name\": \"Lukas\", \"number\": \"000000000000\", \"number_active\": True, \"spId\": 13},\n",
    "    {\"id\": 5, \"name\": \"Luisd\", \"number\": \"000000000000\", \"number_active\": True, \"spId\": 14},\n",
    "    {\"id\": 6, \"name\": \"Jocham\", \"number\":\"000000000000\", \"number_active\": False, \"spId\": 15},\n",
    "]\n",
    "\n",
    "input_data = [\n",
    "    {\"id\": 1, \"name\": \"Luads\", \"number\": \"000000000000\", \"number_active\": True, \"spId\": 10},\n",
    "    {\"id\": 2, \"name\": \"Luads\", \"number\": \"000000000000\", \"number_active\": True, \"spId\": 11},\n",
    "    {\"id\": 3, \"name\": \"Luads\", \"number\": \"000000000000\", \"number_active\": True, \"spId\": 12},\n",
    "    {\"id\": 4, \"name\": \"Lukas\", \"number\": \"000000000000\", \"number_active\": True, \"spId\": 13},\n",
    "    {\"id\": 5, \"name\": \"Luisd\", \"number\": \"000000000000\", \"number_active\": True, \"spId\": 14},\n",
    "    {\"id\": 6, \"name\": \"Jocham\", \"number\":\"000000000000\", \"number_active\": True, \"spId\": 15},\n",
    "]\n",
    "\n",
    "def analyse_back(df_db, df_input, rel=\"spId\"):\n",
    "    \"\"\" \n",
    "        Analysing \"back\" values. Values that where inactive but are\n",
    "        active again. Because of reactivation.\n",
    "        Implying that all values in the input frame are active.\n",
    "        if values are inactive they are not in the input frame\n",
    "    \"\"\"\n",
    "    matches = []\n",
    "    gone_db = df_db.loc[df_db[\"number_active\"] == False]\n",
    "    for x in gone_db[rel].values:\n",
    "        m = df_input.loc[df_input[rel] == x]\n",
    "        if len(m) is not 0 : matches.append(m[rel].values[0])\n",
    "    return [match for match in matches]\n",
    "    \n",
    "df_db = pd.json_normalize(db_data)\n",
    "df_input = pd.json_normalize(input_data)\n",
    "back = analyse_back(df_db, df_input)\n",
    "\n",
    "if not back : print(\"nothing to do \")\n",
    "else : print(back)"
   ]
  },
  {
   "cell_type": "code",
   "execution_count": null,
   "metadata": {},
   "outputs": [],
   "source": []
  }
 ],
 "metadata": {
  "kernelspec": {
   "display_name": "Python 3",
   "language": "python",
   "name": "python3"
  },
  "language_info": {
   "codemirror_mode": {
    "name": "ipython",
    "version": 3
   },
   "file_extension": ".py",
   "mimetype": "text/x-python",
   "name": "python",
   "nbconvert_exporter": "python",
   "pygments_lexer": "ipython3",
   "version": "3.7.7"
  }
 },
 "nbformat": 4,
 "nbformat_minor": 4
}
