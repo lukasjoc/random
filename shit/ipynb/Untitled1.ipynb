{
 "cells": [
  {
   "cell_type": "code",
   "execution_count": 12,
   "metadata": {},
   "outputs": [
    {
     "name": "stdout",
     "output_type": "stream",
     "text": [
      "   id        date       interval aggregation figure\n",
      "0   1  2020-01-01  hourly24hours         max    2.0\n",
      "1   2  2020-01-01  hourly24hours         max    2.0\n",
      "2   1  2020-01-01  hourly24hours         min    4.0\n",
      "3   2  2020-01-01  hourly24hours         min    1.0\n",
      "4   1  2020-01-01  hourly24hours     average   0.80\n",
      "5   2  2020-01-01  hourly24hours     average   0.71\n",
      "6   1  2020-01-01  hourly24hours       total       \n",
      "7   2  2020-01-01  hourly24hours       total    2.0\n"
     ]
    }
   ],
   "source": [
    "import pandas as pd\n",
    "import numpy as np\n",
    "\n",
    "data = [\n",
    "    {\n",
    "        \"id\": 1,\n",
    "        \"date\": \"2020-01-01\",\n",
    "        \"interval\": \"hourly24hours\",\n",
    "        \"average\": \"0.80\",\n",
    "        \"max\": \"2.0\",\n",
    "        \"min\": \"4.0\",\n",
    "    },\n",
    "    {\n",
    "        \"id\": 2,\n",
    "        \"date\": \"2020-01-01\",\n",
    "        \"interval\": \"hourly24hours\",\n",
    "        \"average\": \"0.71\",\n",
    "        \"max\": \"2.0\",\n",
    "        \"min\": \"1.0\",\n",
    "        \"total\": \"2.0\",\n",
    "    },\n",
    "]\n",
    "\n",
    "df = pd.json_normalize(data)\n",
    "\n",
    "\n",
    "# TODO: reshape DONE\n",
    "# get kpi_id  into the frame\n",
    "\n",
    "reshaped = []\n",
    "aggregations = df.loc[:, [\"max\", \"min\", \"average\", \"total\"]].copy()\n",
    "temp = {}\n",
    "\n",
    "for agg in aggregations:\n",
    "    for i in range(len(df)):\n",
    "        temp[\"id\"] = df.loc[i, \"id\"]\n",
    "        temp[\"date\"] = df.loc[i, \"date\"]\n",
    "        temp[\"interval\"] = df.loc[i, \"interval\"]\n",
    "        temp[\"aggregation\"] = agg\n",
    "        temp[\"figure\"] = df.loc[i, agg]\n",
    "        reshaped.append(temp)\n",
    "        temp = {}\n",
    "        \n",
    "reshaped = pd.json_normalize(reshaped)\n",
    "reshaped = reshaped.apply(lambda x: x.replace(np.nan, \"\", regex=True))\n",
    "print(reshaped)\n"
   ]
  },
  {
   "cell_type": "code",
   "execution_count": null,
   "metadata": {},
   "outputs": [],
   "source": []
  }
 ],
 "metadata": {
  "kernelspec": {
   "display_name": "Python 3",
   "language": "python",
   "name": "python3"
  },
  "language_info": {
   "codemirror_mode": {
    "name": "ipython",
    "version": 3
   },
   "file_extension": ".py",
   "mimetype": "text/x-python",
   "name": "python",
   "nbconvert_exporter": "python",
   "pygments_lexer": "ipython3",
   "version": "3.7.7"
  }
 },
 "nbformat": 4,
 "nbformat_minor": 4
}
