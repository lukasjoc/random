{
 "cells": [
  {
   "cell_type": "code",
   "execution_count": 65,
   "metadata": {},
   "outputs": [
    {
     "name": "stdout",
     "output_type": "stream",
     "text": [
      "  id   name        number number_active spId\n",
      "3  4  Lukas  000000000000             1   13\n",
      "4  5  Lukas  000000000000             1   14\n"
     ]
    }
   ],
   "source": [
    "import pandas as pd\n",
    "\n",
    "db_data = [\n",
    "    {\"id\": 1, \"name\": \"Luads\", \"number\": \"000000000000\", \"number_active\": 1, \"spId\": 10},\n",
    "    {\"id\": 2, \"name\": \"Luads\", \"number\": \"000000000000\", \"number_active\": 1, \"spId\": 11},\n",
    "    {\"id\": 3, \"name\": \"Luads\", \"number\": \"000000000000\", \"number_active\": 1, \"spId\": 12},\n",
    "]\n",
    "\n",
    "input_data = [\n",
    "    {\"id\": 1, \"name\": \"Luads\", \"number\": \"000000000000\", \"number_active\": 1, \"spId\": 10},\n",
    "    {\"id\": 2, \"name\": \"Luads\", \"number\": \"000000000000\", \"number_active\": 1, \"spId\": 11},\n",
    "    {\"id\": 3, \"name\": \"Luads\", \"number\": \"000000000000\", \"number_active\": 1, \"spId\": 12},\n",
    "    {\"id\": 4, \"name\": \"Lukas\", \"number\": \"000000000000\", \"number_active\": 1, \"spId\": 13},\n",
    "    {\"id\": 5, \"name\": \"Lukas\", \"number\": \"000000000000\", \"number_active\": 1, \"spId\": 14},\n",
    "    #{\"id\": 6, \"name\": \"Lukas\", \"number\": \"000000000000\", \"number_active\": 1, \"spId\": 15},\n",
    "]\n",
    "\n",
    "\n",
    "df_db = pd.json_normalize(db_data)\n",
    "df_input = pd.json_normalize(input_data)\n",
    "\n",
    "#print(df_db, \"\\n\")\n",
    "#print(df_input, \"\\n\")\n",
    "\n",
    "def analyse_new_sites(df_db, df_input, rel=\"id\", table=None, engine=None):\n",
    "    input_ids = df_input[rel].tolist()\n",
    "    db_ids = df_db[rel].tolist()\n",
    "    new_sites = list(set(input_ids) - set(db_ids))\n",
    "    if len(new_sites) is 0: return new_sites\n",
    "    \n",
    "    cool = pd.DataFrame(columns=df_input.columns)\n",
    "    for val in new_sites:\n",
    "        new_site = df_input.loc[df_input[rel] == val]\n",
    "        cool = cool.append(new_site) \n",
    "    \n",
    "    # TODO: run insert here\n",
    "    return cool\n",
    "\n",
    "new_sites = analyse_new_sites(df_db=df_db, df_input=df_input)\n",
    "print(new_sites)"
   ]
  },
  {
   "cell_type": "code",
   "execution_count": null,
   "metadata": {},
   "outputs": [],
   "source": []
  }
 ],
 "metadata": {
  "file_extension": ".py",
  "kernelspec": {
   "display_name": "Python 3.7.7 64-bit",
   "language": "python",
   "name": "python37764bit3fbc9c601da241c39281b4ce6b932184"
  },
  "language_info": {
   "codemirror_mode": {
    "name": "ipython",
    "version": 3
   },
   "file_extension": ".py",
   "mimetype": "text/x-python",
   "name": "python",
   "nbconvert_exporter": "python",
   "pygments_lexer": "ipython3",
   "version": "3.7.7"
  },
  "mimetype": "text/x-python",
  "name": "python",
  "npconvert_exporter": "python",
  "pygments_lexer": "ipython3",
  "version": 3
 },
 "nbformat": 4,
 "nbformat_minor": 4
}
