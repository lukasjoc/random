{
 "cells": [
  {
   "cell_type": "markdown",
   "metadata": {},
   "source": [
    "## from datetime import date, timedelta\n",
    "\n",
    "def _date_to_int(date):\n",
    "    \"\"\" Convert an ISO date to an integer \"\"\"\n",
    "    date = date.split(\"-\")\n",
    "    yyyy, mm, dd = date[0], date[1], date[2]    \n",
    "    return int(f\"{yyyy}{mm}{dd}\")\n",
    "\n",
    "today = date.today()\n",
    "delta_days = timedelta(days=1) \n",
    "print(today-delta_days)\n",
    "print(_date_to_int(date=str(today-delta_days)))"
   ]
  },
  {
   "cell_type": "code",
   "execution_count": null,
   "metadata": {},
   "outputs": [],
   "source": [
    "def _time_to_int(time):\n",
    "    \"\"\" Convert ISO time to an integer \"\"\"\n",
    "    time = time.split(\":\")\n",
    "    hh, ss = time[0], time[1]\n",
    "    return int(f\"{hh}{ss}\")"
   ]
  }
 ],
 "metadata": {
  "kernelspec": {
   "display_name": "Python 3",
   "language": "python",
   "name": "python3"
  },
  "language_info": {
   "codemirror_mode": {
    "name": "ipython",
    "version": 3
   },
   "file_extension": ".py",
   "mimetype": "text/x-python",
   "name": "python",
   "nbconvert_exporter": "python",
   "pygments_lexer": "ipython3",
   "version": "3.7.7"
  }
 },
 "nbformat": 4,
 "nbformat_minor": 4
}
