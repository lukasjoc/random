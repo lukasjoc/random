{
 "cells": [
  {
   "cell_type": "code",
   "execution_count": 29,
   "metadata": {},
   "outputs": [
    {
     "name": "stdout",
     "output_type": "stream",
     "text": [
      "         date       interval average  max  min total\n",
      "0  2020-01-01  hourly24hours    0.75  2.0  1.0   2.0\n",
      "1  2020-01-01  hourly24hours    0.80  2.0  4.0   NaN \n",
      "\n",
      "         date       interval aggregation figure\n",
      "0  2020-01-01  hourly24hours         max    2.0\n",
      "1  2020-01-01  hourly24hours         max    2.0\n",
      "2  2020-01-01  hourly24hours         min    1.0\n",
      "3  2020-01-01  hourly24hours         min    1.0\n",
      "4  2020-01-01  hourly24hours     average   0.75\n",
      "5  2020-01-01  hourly24hours     average   0.75\n",
      "6  2020-01-01  hourly24hours       total    2.0\n",
      "7  2020-01-01  hourly24hours       total    NaN\n"
     ]
    }
   ],
   "source": [
    "import pandas as pd\n",
    "import numpy as np\n",
    "\n",
    "data = [\n",
    "    {\n",
    "        \"date\": \"2020-01-01\",\n",
    "        \"interval\": \"hourly24hours\",\n",
    "        \"average\": \"0.75\",\n",
    "        \"max\": \"2.0\",\n",
    "        \"min\": \"1.0\",\n",
    "        \"total\": \"2.0\",\n",
    "    },\n",
    "    {\n",
    "        \"date\": \"2020-01-01\",\n",
    "        \"interval\": \"hourly24hours\",\n",
    "        \"average\": \"0.80\",\n",
    "        \"max\": \"2.0\",\n",
    "        \"min\": \"4.0\",\n",
    "    },\n",
    "]\n",
    "\n",
    "df = pd.json_normalize(data)\n",
    "print(df, \"\\n\")\n",
    "\n",
    "reshaped = []\n",
    "aggregations = df.loc[:, [\"max\", \"min\", \"average\", \"total\"]].copy()\n",
    "temp = {}\n",
    "for agg in aggregations:\n",
    "    for i in range(len(df)):\n",
    "        temp[\"date\"] = df.loc[i, \"date\"]\n",
    "        temp[\"interval\"] = df.loc[i, \"interval\"]\n",
    "        temp[\"aggregation\"] = agg\n",
    "        temp[\"figure\"] = df.loc[i, agg]\n",
    "        reshaped.append(temp)\n",
    "        temp = {}\n",
    "\n",
    "# print(new_ags)\n",
    "reshaped = pd.json_normalize(new_ags)\n",
    "\n",
    "reshaped.apply(lambda x: x.replace(np.nan, \"\", regex=True))\n",
    "print(new_df)\n"
   ]
  },
  {
   "cell_type": "code",
   "execution_count": null,
   "metadata": {},
   "outputs": [],
   "source": []
  }
 ],
 "metadata": {
  "kernelspec": {
   "display_name": "Python 3",
   "language": "python",
   "name": "python3"
  },
  "language_info": {
   "codemirror_mode": {
    "name": "ipython",
    "version": 3
   },
   "file_extension": ".py",
   "mimetype": "text/x-python",
   "name": "python",
   "nbconvert_exporter": "python",
   "pygments_lexer": "ipython3",
   "version": "3.7.7"
  }
 },
 "nbformat": 4,
 "nbformat_minor": 4
}
